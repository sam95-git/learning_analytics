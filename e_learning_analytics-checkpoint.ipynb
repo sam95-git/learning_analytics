{
 "cells": [
  {
   "cell_type": "markdown",
   "metadata": {},
   "source": [
    "**e-Learning Analytics project**\n",
    "In this project we will do simple `Exploratory data analysis` with the available dataset.\n",
    "- data cleaning\n",
    "- data visualisation\n",
    "- extracting useful insights from the data"
   ]
  },
  {
   "cell_type": "code",
   "execution_count": 249,
   "metadata": {},
   "outputs": [
    {
     "data": {
      "text/html": [
       "<div>\n",
       "<style scoped>\n",
       "    .dataframe tbody tr th:only-of-type {\n",
       "        vertical-align: middle;\n",
       "    }\n",
       "\n",
       "    .dataframe tbody tr th {\n",
       "        vertical-align: top;\n",
       "    }\n",
       "\n",
       "    .dataframe thead th {\n",
       "        text-align: right;\n",
       "    }\n",
       "</style>\n",
       "<table border=\"1\" class=\"dataframe\">\n",
       "  <thead>\n",
       "    <tr style=\"text-align: right;\">\n",
       "      <th></th>\n",
       "      <th>student_id</th>\n",
       "      <th>grade</th>\n",
       "      <th>subject</th>\n",
       "      <th>country</th>\n",
       "      <th>knowing_source</th>\n",
       "      <th>free_trial</th>\n",
       "      <th>tutoring_taken</th>\n",
       "      <th>worksheet_taken</th>\n",
       "    </tr>\n",
       "  </thead>\n",
       "  <tbody>\n",
       "    <tr>\n",
       "      <th>0</th>\n",
       "      <td>1</td>\n",
       "      <td>A</td>\n",
       "      <td>math</td>\n",
       "      <td>india</td>\n",
       "      <td>blog</td>\n",
       "      <td>yes</td>\n",
       "      <td>yes</td>\n",
       "      <td>yes</td>\n",
       "    </tr>\n",
       "    <tr>\n",
       "      <th>1</th>\n",
       "      <td>2</td>\n",
       "      <td>C</td>\n",
       "      <td>math</td>\n",
       "      <td>us</td>\n",
       "      <td>youtube</td>\n",
       "      <td>no</td>\n",
       "      <td>no</td>\n",
       "      <td>no</td>\n",
       "    </tr>\n",
       "    <tr>\n",
       "      <th>2</th>\n",
       "      <td>3</td>\n",
       "      <td>F</td>\n",
       "      <td>science</td>\n",
       "      <td>india</td>\n",
       "      <td>instagram</td>\n",
       "      <td>no</td>\n",
       "      <td>no</td>\n",
       "      <td>yes</td>\n",
       "    </tr>\n",
       "    <tr>\n",
       "      <th>3</th>\n",
       "      <td>4</td>\n",
       "      <td>B</td>\n",
       "      <td>science</td>\n",
       "      <td>uk</td>\n",
       "      <td>youtube</td>\n",
       "      <td>yes</td>\n",
       "      <td>yes</td>\n",
       "      <td>no</td>\n",
       "    </tr>\n",
       "    <tr>\n",
       "      <th>4</th>\n",
       "      <td>5</td>\n",
       "      <td>A</td>\n",
       "      <td>english</td>\n",
       "      <td>india</td>\n",
       "      <td>facebook</td>\n",
       "      <td>no</td>\n",
       "      <td>no</td>\n",
       "      <td>no</td>\n",
       "    </tr>\n",
       "  </tbody>\n",
       "</table>\n",
       "</div>"
      ],
      "text/plain": [
       "   student_id grade  subject country knowing_source free_trial tutoring_taken  \\\n",
       "0           1     A     math   india           blog        yes            yes   \n",
       "1           2     C     math      us        youtube         no             no   \n",
       "2           3     F  science   india      instagram         no             no   \n",
       "3           4     B  science      uk        youtube        yes            yes   \n",
       "4           5     A  english   india       facebook         no             no   \n",
       "\n",
       "  worksheet_taken  \n",
       "0             yes  \n",
       "1              no  \n",
       "2             yes  \n",
       "3              no  \n",
       "4              no  "
      ]
     },
     "execution_count": 249,
     "metadata": {},
     "output_type": "execute_result"
    }
   ],
   "source": [
    "# lets import necessary modules \n",
    "import pandas as pd\n",
    "import numpy as np\n",
    "df = pd.read_csv('.//csv_files//etutor.csv')\n",
    "df.head()"
   ]
  },
  {
   "cell_type": "code",
   "execution_count": 250,
   "metadata": {},
   "outputs": [
    {
     "data": {
      "text/plain": [
       "(1000, 8)"
      ]
     },
     "execution_count": 250,
     "metadata": {},
     "output_type": "execute_result"
    }
   ],
   "source": [
    "#lets check the shape of our dataset\n",
    "df.shape\n"
   ]
  },
  {
   "cell_type": "code",
   "execution_count": 254,
   "metadata": {},
   "outputs": [
    {
     "data": {
      "text/plain": [
       "count      3.000000\n",
       "mean     333.333333\n",
       "std       90.743227\n",
       "min      231.000000\n",
       "25%      298.000000\n",
       "50%      365.000000\n",
       "75%      384.500000\n",
       "max      404.000000\n",
       "Name: subject, dtype: float64"
      ]
     },
     "execution_count": 254,
     "metadata": {},
     "output_type": "execute_result"
    }
   ],
   "source": [
    "#our dataframe has 1000 rows and 8 columns \n",
    "#lets look at the basic statistics for each column\n",
    "g1 = df.groupby('subject')['subject'].count()\n",
    "g1.describe()"
   ]
  },
  {
   "cell_type": "code",
   "execution_count": 255,
   "metadata": {
    "scrolled": true
   },
   "outputs": [
    {
     "data": {
      "text/plain": [
       "count      4.000000\n",
       "mean     250.000000\n",
       "std       96.895132\n",
       "min      158.000000\n",
       "25%      172.250000\n",
       "50%      245.000000\n",
       "75%      322.750000\n",
       "max      352.000000\n",
       "Name: grade, dtype: float64"
      ]
     },
     "execution_count": 255,
     "metadata": {},
     "output_type": "execute_result"
    }
   ],
   "source": [
    "g2 = df.groupby('grade')['grade'].count()\n",
    "g2.describe()"
   ]
  },
  {
   "cell_type": "code",
   "execution_count": 256,
   "metadata": {},
   "outputs": [
    {
     "data": {
      "text/plain": [
       "count      5.00000\n",
       "mean     200.00000\n",
       "std      108.41356\n",
       "min       81.00000\n",
       "25%      136.00000\n",
       "50%      154.00000\n",
       "75%      300.00000\n",
       "max      329.00000\n",
       "Name: country, dtype: float64"
      ]
     },
     "execution_count": 256,
     "metadata": {},
     "output_type": "execute_result"
    }
   ],
   "source": [
    "g3 = df.groupby('country')['country'].count()\n",
    "g3.describe()"
   ]
  },
  {
   "cell_type": "code",
   "execution_count": 257,
   "metadata": {
    "scrolled": false
   },
   "outputs": [
    {
     "data": {
      "text/plain": [
       "count      4.000000\n",
       "mean     249.250000\n",
       "std      134.594143\n",
       "min      141.000000\n",
       "25%      147.750000\n",
       "50%      214.000000\n",
       "75%      315.500000\n",
       "max      428.000000\n",
       "Name: knowing_source, dtype: float64"
      ]
     },
     "execution_count": 257,
     "metadata": {},
     "output_type": "execute_result"
    }
   ],
   "source": [
    "g4 = df.groupby('knowing_source')['knowing_source'].count()\n",
    "g4.describe()"
   ]
  },
  {
   "cell_type": "code",
   "execution_count": 258,
   "metadata": {},
   "outputs": [
    {
     "data": {
      "text/plain": [
       "count      2.000000\n",
       "mean     500.000000\n",
       "std       67.882251\n",
       "min      452.000000\n",
       "25%      476.000000\n",
       "50%      500.000000\n",
       "75%      524.000000\n",
       "max      548.000000\n",
       "Name: free_trial, dtype: float64"
      ]
     },
     "execution_count": 258,
     "metadata": {},
     "output_type": "execute_result"
    }
   ],
   "source": [
    "g5 = df.groupby('free_trial')['free_trial'].count()\n",
    "g5.describe()"
   ]
  },
  {
   "cell_type": "code",
   "execution_count": 259,
   "metadata": {
    "scrolled": true
   },
   "outputs": [
    {
     "data": {
      "text/plain": [
       "count      2.000000\n",
       "mean     499.000000\n",
       "std       52.325902\n",
       "min      462.000000\n",
       "25%      480.500000\n",
       "50%      499.000000\n",
       "75%      517.500000\n",
       "max      536.000000\n",
       "Name: tutoring_taken, dtype: float64"
      ]
     },
     "execution_count": 259,
     "metadata": {},
     "output_type": "execute_result"
    }
   ],
   "source": [
    "g6 = df.groupby('tutoring_taken')['tutoring_taken'].count()\n",
    "g6.describe()"
   ]
  },
  {
   "cell_type": "code",
   "execution_count": 260,
   "metadata": {},
   "outputs": [
    {
     "data": {
      "text/plain": [
       "count      2.000000\n",
       "mean     500.000000\n",
       "std       52.325902\n",
       "min      463.000000\n",
       "25%      481.500000\n",
       "50%      500.000000\n",
       "75%      518.500000\n",
       "max      537.000000\n",
       "Name: worksheet_taken, dtype: float64"
      ]
     },
     "execution_count": 260,
     "metadata": {},
     "output_type": "execute_result"
    }
   ],
   "source": [
    "g7 = df.groupby('worksheet_taken')['worksheet_taken'].count()\n",
    "g7.describe()"
   ]
  },
  {
   "cell_type": "code",
   "execution_count": 179,
   "metadata": {
    "scrolled": true
   },
   "outputs": [
    {
     "data": {
      "text/plain": [
       "0"
      ]
     },
     "execution_count": 179,
     "metadata": {},
     "output_type": "execute_result"
    }
   ],
   "source": [
    "# DATA CLEANING - typically data cleaning is all about removing null values and fill it up with optimal value\n",
    "\n",
    "df['grade'].isna().sum()"
   ]
  },
  {
   "cell_type": "code",
   "execution_count": 180,
   "metadata": {},
   "outputs": [
    {
     "data": {
      "text/plain": [
       "0"
      ]
     },
     "execution_count": 180,
     "metadata": {},
     "output_type": "execute_result"
    }
   ],
   "source": [
    "df['subject'].isna().sum()"
   ]
  },
  {
   "cell_type": "code",
   "execution_count": 181,
   "metadata": {},
   "outputs": [
    {
     "data": {
      "text/plain": [
       "0"
      ]
     },
     "execution_count": 181,
     "metadata": {},
     "output_type": "execute_result"
    }
   ],
   "source": [
    "df['country'].isna().sum()"
   ]
  },
  {
   "cell_type": "code",
   "execution_count": 182,
   "metadata": {
    "scrolled": true
   },
   "outputs": [
    {
     "data": {
      "text/plain": [
       "3"
      ]
     },
     "execution_count": 182,
     "metadata": {},
     "output_type": "execute_result"
    }
   ],
   "source": [
    "df['knowing_source'].isna().sum()"
   ]
  },
  {
   "cell_type": "code",
   "execution_count": 183,
   "metadata": {
    "scrolled": true
   },
   "outputs": [
    {
     "data": {
      "text/plain": [
       "0          blog\n",
       "1       youtube\n",
       "2     instagram\n",
       "3       youtube\n",
       "4      facebook\n",
       "5     instagram\n",
       "6      facebook\n",
       "7       youtube\n",
       "8     instagram\n",
       "9       youtube\n",
       "10         blog\n",
       "11      youtube\n",
       "12    instagram\n",
       "13      youtube\n",
       "14     facebook\n",
       "15    instagram\n",
       "16     facebook\n",
       "17      youtube\n",
       "18    instagram\n",
       "19      youtube\n",
       "20         blog\n",
       "21          NaN\n",
       "22    instagram\n",
       "23      youtube\n",
       "24     facebook\n",
       "Name: knowing_source, dtype: object"
      ]
     },
     "execution_count": 183,
     "metadata": {},
     "output_type": "execute_result"
    }
   ],
   "source": [
    "df['knowing_source'].head(25)"
   ]
  },
  {
   "cell_type": "code",
   "execution_count": 184,
   "metadata": {},
   "outputs": [
    {
     "data": {
      "text/plain": [
       "0"
      ]
     },
     "execution_count": 184,
     "metadata": {},
     "output_type": "execute_result"
    }
   ],
   "source": [
    "df['free_trial'].isna().sum()"
   ]
  },
  {
   "cell_type": "code",
   "execution_count": 185,
   "metadata": {
    "scrolled": true
   },
   "outputs": [
    {
     "data": {
      "text/plain": [
       "2"
      ]
     },
     "execution_count": 185,
     "metadata": {},
     "output_type": "execute_result"
    }
   ],
   "source": [
    "df['tutoring_taken'].isna().sum()"
   ]
  },
  {
   "cell_type": "code",
   "execution_count": 186,
   "metadata": {
    "scrolled": true
   },
   "outputs": [
    {
     "data": {
      "text/plain": [
       "0"
      ]
     },
     "execution_count": 186,
     "metadata": {},
     "output_type": "execute_result"
    }
   ],
   "source": [
    "df['worksheet_taken'].isna().sum()"
   ]
  },
  {
   "cell_type": "code",
   "execution_count": 187,
   "metadata": {},
   "outputs": [],
   "source": [
    "# from above results we know that two columns have few null values.\n",
    "df1= df.copy()\n",
    "df1 = df1.fillna({'knowing_source':'instagram', 'tutoring_taken':'no'})"
   ]
  },
  {
   "cell_type": "code",
   "execution_count": 188,
   "metadata": {
    "scrolled": true
   },
   "outputs": [
    {
     "data": {
      "text/plain": [
       "0          blog\n",
       "1       youtube\n",
       "2     instagram\n",
       "3       youtube\n",
       "4      facebook\n",
       "5     instagram\n",
       "6      facebook\n",
       "7       youtube\n",
       "8     instagram\n",
       "9       youtube\n",
       "10         blog\n",
       "11      youtube\n",
       "12    instagram\n",
       "13      youtube\n",
       "14     facebook\n",
       "15    instagram\n",
       "16     facebook\n",
       "17      youtube\n",
       "18    instagram\n",
       "19      youtube\n",
       "20         blog\n",
       "21    instagram\n",
       "22    instagram\n",
       "23      youtube\n",
       "24     facebook\n",
       "25    instagram\n",
       "26     facebook\n",
       "27      youtube\n",
       "28    instagram\n",
       "29      youtube\n",
       "Name: knowing_source, dtype: object"
      ]
     },
     "execution_count": 188,
     "metadata": {},
     "output_type": "execute_result"
    }
   ],
   "source": [
    "#now as you see below we filled na value with the desired value\n",
    "df1['knowing_source'].head(30)\n"
   ]
  },
  {
   "cell_type": "code",
   "execution_count": 189,
   "metadata": {
    "scrolled": true
   },
   "outputs": [
    {
     "data": {
      "text/plain": [
       "student_id         0\n",
       "grade              0\n",
       "subject            0\n",
       "country            0\n",
       "knowing_source     0\n",
       "free_trial         0\n",
       "tutoring_taken     0\n",
       "worksheet_taken    0\n",
       "dtype: int64"
      ]
     },
     "execution_count": 189,
     "metadata": {},
     "output_type": "execute_result"
    }
   ],
   "source": [
    "df1.isnull().sum()"
   ]
  },
  {
   "cell_type": "code",
   "execution_count": 190,
   "metadata": {
    "scrolled": true
   },
   "outputs": [
    {
     "data": {
      "text/html": [
       "<div>\n",
       "<style scoped>\n",
       "    .dataframe tbody tr th:only-of-type {\n",
       "        vertical-align: middle;\n",
       "    }\n",
       "\n",
       "    .dataframe tbody tr th {\n",
       "        vertical-align: top;\n",
       "    }\n",
       "\n",
       "    .dataframe thead th {\n",
       "        text-align: right;\n",
       "    }\n",
       "</style>\n",
       "<table border=\"1\" class=\"dataframe\">\n",
       "  <thead>\n",
       "    <tr style=\"text-align: right;\">\n",
       "      <th></th>\n",
       "      <th>student_id</th>\n",
       "      <th>grade</th>\n",
       "      <th>subject</th>\n",
       "      <th>country</th>\n",
       "      <th>knowing_source</th>\n",
       "      <th>free_trial</th>\n",
       "      <th>tutoring_taken</th>\n",
       "      <th>worksheet_taken</th>\n",
       "      <th>le_subject</th>\n",
       "      <th>le_country</th>\n",
       "      <th>le_knowing_source</th>\n",
       "      <th>le_free_trial</th>\n",
       "      <th>le_tutoring_taken</th>\n",
       "      <th>le_worksheet_taken</th>\n",
       "    </tr>\n",
       "  </thead>\n",
       "  <tbody>\n",
       "    <tr>\n",
       "      <th>0</th>\n",
       "      <td>1</td>\n",
       "      <td>A</td>\n",
       "      <td>math</td>\n",
       "      <td>india</td>\n",
       "      <td>blog</td>\n",
       "      <td>yes</td>\n",
       "      <td>yes</td>\n",
       "      <td>yes</td>\n",
       "      <td>1</td>\n",
       "      <td>2</td>\n",
       "      <td>0</td>\n",
       "      <td>1</td>\n",
       "      <td>1</td>\n",
       "      <td>1</td>\n",
       "    </tr>\n",
       "    <tr>\n",
       "      <th>1</th>\n",
       "      <td>2</td>\n",
       "      <td>C</td>\n",
       "      <td>math</td>\n",
       "      <td>us</td>\n",
       "      <td>youtube</td>\n",
       "      <td>no</td>\n",
       "      <td>no</td>\n",
       "      <td>no</td>\n",
       "      <td>1</td>\n",
       "      <td>4</td>\n",
       "      <td>3</td>\n",
       "      <td>0</td>\n",
       "      <td>0</td>\n",
       "      <td>0</td>\n",
       "    </tr>\n",
       "    <tr>\n",
       "      <th>2</th>\n",
       "      <td>3</td>\n",
       "      <td>F</td>\n",
       "      <td>science</td>\n",
       "      <td>india</td>\n",
       "      <td>instagram</td>\n",
       "      <td>no</td>\n",
       "      <td>no</td>\n",
       "      <td>yes</td>\n",
       "      <td>2</td>\n",
       "      <td>2</td>\n",
       "      <td>2</td>\n",
       "      <td>0</td>\n",
       "      <td>0</td>\n",
       "      <td>1</td>\n",
       "    </tr>\n",
       "    <tr>\n",
       "      <th>3</th>\n",
       "      <td>4</td>\n",
       "      <td>B</td>\n",
       "      <td>science</td>\n",
       "      <td>uk</td>\n",
       "      <td>youtube</td>\n",
       "      <td>yes</td>\n",
       "      <td>yes</td>\n",
       "      <td>no</td>\n",
       "      <td>2</td>\n",
       "      <td>3</td>\n",
       "      <td>3</td>\n",
       "      <td>1</td>\n",
       "      <td>1</td>\n",
       "      <td>0</td>\n",
       "    </tr>\n",
       "    <tr>\n",
       "      <th>4</th>\n",
       "      <td>5</td>\n",
       "      <td>A</td>\n",
       "      <td>english</td>\n",
       "      <td>india</td>\n",
       "      <td>facebook</td>\n",
       "      <td>no</td>\n",
       "      <td>no</td>\n",
       "      <td>no</td>\n",
       "      <td>0</td>\n",
       "      <td>2</td>\n",
       "      <td>1</td>\n",
       "      <td>0</td>\n",
       "      <td>0</td>\n",
       "      <td>0</td>\n",
       "    </tr>\n",
       "    <tr>\n",
       "      <th>5</th>\n",
       "      <td>6</td>\n",
       "      <td>C</td>\n",
       "      <td>math</td>\n",
       "      <td>us</td>\n",
       "      <td>instagram</td>\n",
       "      <td>yes</td>\n",
       "      <td>yes</td>\n",
       "      <td>yes</td>\n",
       "      <td>1</td>\n",
       "      <td>4</td>\n",
       "      <td>2</td>\n",
       "      <td>1</td>\n",
       "      <td>1</td>\n",
       "      <td>1</td>\n",
       "    </tr>\n",
       "    <tr>\n",
       "      <th>6</th>\n",
       "      <td>7</td>\n",
       "      <td>F</td>\n",
       "      <td>english</td>\n",
       "      <td>us</td>\n",
       "      <td>facebook</td>\n",
       "      <td>no</td>\n",
       "      <td>no</td>\n",
       "      <td>yes</td>\n",
       "      <td>0</td>\n",
       "      <td>4</td>\n",
       "      <td>1</td>\n",
       "      <td>0</td>\n",
       "      <td>0</td>\n",
       "      <td>1</td>\n",
       "    </tr>\n",
       "    <tr>\n",
       "      <th>7</th>\n",
       "      <td>8</td>\n",
       "      <td>B</td>\n",
       "      <td>science</td>\n",
       "      <td>india</td>\n",
       "      <td>youtube</td>\n",
       "      <td>no</td>\n",
       "      <td>no</td>\n",
       "      <td>no</td>\n",
       "      <td>2</td>\n",
       "      <td>2</td>\n",
       "      <td>3</td>\n",
       "      <td>0</td>\n",
       "      <td>0</td>\n",
       "      <td>0</td>\n",
       "    </tr>\n",
       "    <tr>\n",
       "      <th>8</th>\n",
       "      <td>9</td>\n",
       "      <td>A</td>\n",
       "      <td>math</td>\n",
       "      <td>uk</td>\n",
       "      <td>instagram</td>\n",
       "      <td>yes</td>\n",
       "      <td>yes</td>\n",
       "      <td>no</td>\n",
       "      <td>1</td>\n",
       "      <td>3</td>\n",
       "      <td>2</td>\n",
       "      <td>1</td>\n",
       "      <td>1</td>\n",
       "      <td>0</td>\n",
       "    </tr>\n",
       "    <tr>\n",
       "      <th>9</th>\n",
       "      <td>10</td>\n",
       "      <td>B</td>\n",
       "      <td>math</td>\n",
       "      <td>us</td>\n",
       "      <td>youtube</td>\n",
       "      <td>yes</td>\n",
       "      <td>yes</td>\n",
       "      <td>yes</td>\n",
       "      <td>1</td>\n",
       "      <td>4</td>\n",
       "      <td>3</td>\n",
       "      <td>1</td>\n",
       "      <td>1</td>\n",
       "      <td>1</td>\n",
       "    </tr>\n",
       "  </tbody>\n",
       "</table>\n",
       "</div>"
      ],
      "text/plain": [
       "   student_id grade  subject country knowing_source free_trial tutoring_taken  \\\n",
       "0           1     A     math   india           blog        yes            yes   \n",
       "1           2     C     math      us        youtube         no             no   \n",
       "2           3     F  science   india      instagram         no             no   \n",
       "3           4     B  science      uk        youtube        yes            yes   \n",
       "4           5     A  english   india       facebook         no             no   \n",
       "5           6     C     math      us      instagram        yes            yes   \n",
       "6           7     F  english      us       facebook         no             no   \n",
       "7           8     B  science   india        youtube         no             no   \n",
       "8           9     A     math      uk      instagram        yes            yes   \n",
       "9          10     B     math      us        youtube        yes            yes   \n",
       "\n",
       "  worksheet_taken  le_subject  le_country  le_knowing_source  le_free_trial  \\\n",
       "0             yes           1           2                  0              1   \n",
       "1              no           1           4                  3              0   \n",
       "2             yes           2           2                  2              0   \n",
       "3              no           2           3                  3              1   \n",
       "4              no           0           2                  1              0   \n",
       "5             yes           1           4                  2              1   \n",
       "6             yes           0           4                  1              0   \n",
       "7              no           2           2                  3              0   \n",
       "8              no           1           3                  2              1   \n",
       "9             yes           1           4                  3              1   \n",
       "\n",
       "   le_tutoring_taken  le_worksheet_taken  \n",
       "0                  1                   1  \n",
       "1                  0                   0  \n",
       "2                  0                   1  \n",
       "3                  1                   0  \n",
       "4                  0                   0  \n",
       "5                  1                   1  \n",
       "6                  0                   1  \n",
       "7                  0                   0  \n",
       "8                  1                   0  \n",
       "9                  1                   1  "
      ]
     },
     "execution_count": 190,
     "metadata": {},
     "output_type": "execute_result"
    }
   ],
   "source": [
    "#now our dataset is cleaned\n",
    "#lets convert text data into numerical data for further analysis\n",
    "from sklearn.preprocessing import LabelEncoder\n",
    "le = LabelEncoder()\n",
    "df1['le_subject'] = le.fit_transform(df1.subject)\n",
    "df1['le_country'] = le.fit_transform(df1.country)\n",
    "df1['le_knowing_source'] = le.fit_transform(df1.knowing_source)\n",
    "df1['le_free_trial'] = le.fit_transform(df1.free_trial)\n",
    "df1['le_tutoring_taken'] = le.fit_transform(df1.tutoring_taken)\n",
    "df1['le_worksheet_taken'] = le.fit_transform(df1.worksheet_taken)\n",
    "df1.head(10)"
   ]
  },
  {
   "cell_type": "code",
   "execution_count": 191,
   "metadata": {
    "scrolled": false
   },
   "outputs": [
    {
     "data": {
      "text/html": [
       "<div>\n",
       "<style scoped>\n",
       "    .dataframe tbody tr th:only-of-type {\n",
       "        vertical-align: middle;\n",
       "    }\n",
       "\n",
       "    .dataframe tbody tr th {\n",
       "        vertical-align: top;\n",
       "    }\n",
       "\n",
       "    .dataframe thead th {\n",
       "        text-align: right;\n",
       "    }\n",
       "</style>\n",
       "<table border=\"1\" class=\"dataframe\">\n",
       "  <thead>\n",
       "    <tr style=\"text-align: right;\">\n",
       "      <th></th>\n",
       "      <th>student_id</th>\n",
       "      <th>grade</th>\n",
       "      <th>subject</th>\n",
       "      <th>country</th>\n",
       "      <th>knowing_source</th>\n",
       "      <th>free_trial</th>\n",
       "      <th>tutoring_taken</th>\n",
       "      <th>worksheet_taken</th>\n",
       "      <th>le_subject</th>\n",
       "      <th>le_country</th>\n",
       "      <th>le_knowing_source</th>\n",
       "      <th>le_free_trial</th>\n",
       "      <th>le_tutoring_taken</th>\n",
       "      <th>le_worksheet_taken</th>\n",
       "      <th>oe_grade</th>\n",
       "    </tr>\n",
       "  </thead>\n",
       "  <tbody>\n",
       "    <tr>\n",
       "      <th>0</th>\n",
       "      <td>1</td>\n",
       "      <td>A</td>\n",
       "      <td>math</td>\n",
       "      <td>india</td>\n",
       "      <td>blog</td>\n",
       "      <td>yes</td>\n",
       "      <td>yes</td>\n",
       "      <td>yes</td>\n",
       "      <td>1</td>\n",
       "      <td>2</td>\n",
       "      <td>0</td>\n",
       "      <td>1</td>\n",
       "      <td>1</td>\n",
       "      <td>1</td>\n",
       "      <td>3.0</td>\n",
       "    </tr>\n",
       "    <tr>\n",
       "      <th>1</th>\n",
       "      <td>2</td>\n",
       "      <td>C</td>\n",
       "      <td>math</td>\n",
       "      <td>us</td>\n",
       "      <td>youtube</td>\n",
       "      <td>no</td>\n",
       "      <td>no</td>\n",
       "      <td>no</td>\n",
       "      <td>1</td>\n",
       "      <td>4</td>\n",
       "      <td>3</td>\n",
       "      <td>0</td>\n",
       "      <td>0</td>\n",
       "      <td>0</td>\n",
       "      <td>1.0</td>\n",
       "    </tr>\n",
       "    <tr>\n",
       "      <th>2</th>\n",
       "      <td>3</td>\n",
       "      <td>F</td>\n",
       "      <td>science</td>\n",
       "      <td>india</td>\n",
       "      <td>instagram</td>\n",
       "      <td>no</td>\n",
       "      <td>no</td>\n",
       "      <td>yes</td>\n",
       "      <td>2</td>\n",
       "      <td>2</td>\n",
       "      <td>2</td>\n",
       "      <td>0</td>\n",
       "      <td>0</td>\n",
       "      <td>1</td>\n",
       "      <td>0.0</td>\n",
       "    </tr>\n",
       "    <tr>\n",
       "      <th>3</th>\n",
       "      <td>4</td>\n",
       "      <td>B</td>\n",
       "      <td>science</td>\n",
       "      <td>uk</td>\n",
       "      <td>youtube</td>\n",
       "      <td>yes</td>\n",
       "      <td>yes</td>\n",
       "      <td>no</td>\n",
       "      <td>2</td>\n",
       "      <td>3</td>\n",
       "      <td>3</td>\n",
       "      <td>1</td>\n",
       "      <td>1</td>\n",
       "      <td>0</td>\n",
       "      <td>2.0</td>\n",
       "    </tr>\n",
       "    <tr>\n",
       "      <th>4</th>\n",
       "      <td>5</td>\n",
       "      <td>A</td>\n",
       "      <td>english</td>\n",
       "      <td>india</td>\n",
       "      <td>facebook</td>\n",
       "      <td>no</td>\n",
       "      <td>no</td>\n",
       "      <td>no</td>\n",
       "      <td>0</td>\n",
       "      <td>2</td>\n",
       "      <td>1</td>\n",
       "      <td>0</td>\n",
       "      <td>0</td>\n",
       "      <td>0</td>\n",
       "      <td>3.0</td>\n",
       "    </tr>\n",
       "    <tr>\n",
       "      <th>5</th>\n",
       "      <td>6</td>\n",
       "      <td>C</td>\n",
       "      <td>math</td>\n",
       "      <td>us</td>\n",
       "      <td>instagram</td>\n",
       "      <td>yes</td>\n",
       "      <td>yes</td>\n",
       "      <td>yes</td>\n",
       "      <td>1</td>\n",
       "      <td>4</td>\n",
       "      <td>2</td>\n",
       "      <td>1</td>\n",
       "      <td>1</td>\n",
       "      <td>1</td>\n",
       "      <td>1.0</td>\n",
       "    </tr>\n",
       "    <tr>\n",
       "      <th>6</th>\n",
       "      <td>7</td>\n",
       "      <td>F</td>\n",
       "      <td>english</td>\n",
       "      <td>us</td>\n",
       "      <td>facebook</td>\n",
       "      <td>no</td>\n",
       "      <td>no</td>\n",
       "      <td>yes</td>\n",
       "      <td>0</td>\n",
       "      <td>4</td>\n",
       "      <td>1</td>\n",
       "      <td>0</td>\n",
       "      <td>0</td>\n",
       "      <td>1</td>\n",
       "      <td>0.0</td>\n",
       "    </tr>\n",
       "    <tr>\n",
       "      <th>7</th>\n",
       "      <td>8</td>\n",
       "      <td>B</td>\n",
       "      <td>science</td>\n",
       "      <td>india</td>\n",
       "      <td>youtube</td>\n",
       "      <td>no</td>\n",
       "      <td>no</td>\n",
       "      <td>no</td>\n",
       "      <td>2</td>\n",
       "      <td>2</td>\n",
       "      <td>3</td>\n",
       "      <td>0</td>\n",
       "      <td>0</td>\n",
       "      <td>0</td>\n",
       "      <td>2.0</td>\n",
       "    </tr>\n",
       "    <tr>\n",
       "      <th>8</th>\n",
       "      <td>9</td>\n",
       "      <td>A</td>\n",
       "      <td>math</td>\n",
       "      <td>uk</td>\n",
       "      <td>instagram</td>\n",
       "      <td>yes</td>\n",
       "      <td>yes</td>\n",
       "      <td>no</td>\n",
       "      <td>1</td>\n",
       "      <td>3</td>\n",
       "      <td>2</td>\n",
       "      <td>1</td>\n",
       "      <td>1</td>\n",
       "      <td>0</td>\n",
       "      <td>3.0</td>\n",
       "    </tr>\n",
       "    <tr>\n",
       "      <th>9</th>\n",
       "      <td>10</td>\n",
       "      <td>B</td>\n",
       "      <td>math</td>\n",
       "      <td>us</td>\n",
       "      <td>youtube</td>\n",
       "      <td>yes</td>\n",
       "      <td>yes</td>\n",
       "      <td>yes</td>\n",
       "      <td>1</td>\n",
       "      <td>4</td>\n",
       "      <td>3</td>\n",
       "      <td>1</td>\n",
       "      <td>1</td>\n",
       "      <td>1</td>\n",
       "      <td>2.0</td>\n",
       "    </tr>\n",
       "  </tbody>\n",
       "</table>\n",
       "</div>"
      ],
      "text/plain": [
       "   student_id grade  subject country knowing_source free_trial tutoring_taken  \\\n",
       "0           1     A     math   india           blog        yes            yes   \n",
       "1           2     C     math      us        youtube         no             no   \n",
       "2           3     F  science   india      instagram         no             no   \n",
       "3           4     B  science      uk        youtube        yes            yes   \n",
       "4           5     A  english   india       facebook         no             no   \n",
       "5           6     C     math      us      instagram        yes            yes   \n",
       "6           7     F  english      us       facebook         no             no   \n",
       "7           8     B  science   india        youtube         no             no   \n",
       "8           9     A     math      uk      instagram        yes            yes   \n",
       "9          10     B     math      us        youtube        yes            yes   \n",
       "\n",
       "  worksheet_taken  le_subject  le_country  le_knowing_source  le_free_trial  \\\n",
       "0             yes           1           2                  0              1   \n",
       "1              no           1           4                  3              0   \n",
       "2             yes           2           2                  2              0   \n",
       "3              no           2           3                  3              1   \n",
       "4              no           0           2                  1              0   \n",
       "5             yes           1           4                  2              1   \n",
       "6             yes           0           4                  1              0   \n",
       "7              no           2           2                  3              0   \n",
       "8              no           1           3                  2              1   \n",
       "9             yes           1           4                  3              1   \n",
       "\n",
       "   le_tutoring_taken  le_worksheet_taken  oe_grade  \n",
       "0                  1                   1       3.0  \n",
       "1                  0                   0       1.0  \n",
       "2                  0                   1       0.0  \n",
       "3                  1                   0       2.0  \n",
       "4                  0                   0       3.0  \n",
       "5                  1                   1       1.0  \n",
       "6                  0                   1       0.0  \n",
       "7                  0                   0       2.0  \n",
       "8                  1                   0       3.0  \n",
       "9                  1                   1       2.0  "
      ]
     },
     "execution_count": 191,
     "metadata": {},
     "output_type": "execute_result"
    }
   ],
   "source": [
    "# for grade column we have to use ordinal encoder since grade are related like a>b>c>f\n",
    "from sklearn.preprocessing import OrdinalEncoder\n",
    "grade_order = ['F', 'C', 'B', 'A']\n",
    "o_encodr = OrdinalEncoder(categories=[grade_order])\n",
    "df1['oe_grade'] = o_encodr.fit_transform(df1[['grade']])\n",
    "df1.head(10)\n"
   ]
  },
  {
   "cell_type": "markdown",
   "metadata": {},
   "source": [
    "  **LABEL ENCODED VALUES**\n",
    "          \n",
    "  - `country` aus==>0 ,  canada==>1 ,  india==>2 ,  uk==>3 ,  us==>4 \n",
    "  - `subject` english==>0 ,  math==>1,  science==>2 \n",
    "  - `source`  blog==>0, facebook==>1, insta ==>2, youtube==>3\n",
    "  - `free trial` no ==>0,  yes ==>1 \n",
    "  - `tutoring_taken` no ==>0, yes ==>1 \n",
    "  - `worksheet_taken` no ==>0, yes ==>1 \n",
    "  - `grade`  F==>0, C==>1, B==>2, A==>3"
   ]
  },
  {
   "cell_type": "code",
   "execution_count": 192,
   "metadata": {
    "scrolled": true
   },
   "outputs": [
    {
     "data": {
      "text/html": [
       "<div>\n",
       "<style scoped>\n",
       "    .dataframe tbody tr th:only-of-type {\n",
       "        vertical-align: middle;\n",
       "    }\n",
       "\n",
       "    .dataframe tbody tr th {\n",
       "        vertical-align: top;\n",
       "    }\n",
       "\n",
       "    .dataframe thead th {\n",
       "        text-align: right;\n",
       "    }\n",
       "</style>\n",
       "<table border=\"1\" class=\"dataframe\">\n",
       "  <thead>\n",
       "    <tr style=\"text-align: right;\">\n",
       "      <th></th>\n",
       "      <th>student_id</th>\n",
       "      <th>le_subject</th>\n",
       "      <th>le_country</th>\n",
       "      <th>le_knowing_source</th>\n",
       "      <th>le_free_trial</th>\n",
       "      <th>le_tutoring_taken</th>\n",
       "      <th>le_worksheet_taken</th>\n",
       "      <th>oe_grade</th>\n",
       "    </tr>\n",
       "  </thead>\n",
       "  <tbody>\n",
       "    <tr>\n",
       "      <th>0</th>\n",
       "      <td>1</td>\n",
       "      <td>1</td>\n",
       "      <td>2</td>\n",
       "      <td>0</td>\n",
       "      <td>1</td>\n",
       "      <td>1</td>\n",
       "      <td>1</td>\n",
       "      <td>3.0</td>\n",
       "    </tr>\n",
       "    <tr>\n",
       "      <th>1</th>\n",
       "      <td>2</td>\n",
       "      <td>1</td>\n",
       "      <td>4</td>\n",
       "      <td>3</td>\n",
       "      <td>0</td>\n",
       "      <td>0</td>\n",
       "      <td>0</td>\n",
       "      <td>1.0</td>\n",
       "    </tr>\n",
       "    <tr>\n",
       "      <th>2</th>\n",
       "      <td>3</td>\n",
       "      <td>2</td>\n",
       "      <td>2</td>\n",
       "      <td>2</td>\n",
       "      <td>0</td>\n",
       "      <td>0</td>\n",
       "      <td>1</td>\n",
       "      <td>0.0</td>\n",
       "    </tr>\n",
       "    <tr>\n",
       "      <th>3</th>\n",
       "      <td>4</td>\n",
       "      <td>2</td>\n",
       "      <td>3</td>\n",
       "      <td>3</td>\n",
       "      <td>1</td>\n",
       "      <td>1</td>\n",
       "      <td>0</td>\n",
       "      <td>2.0</td>\n",
       "    </tr>\n",
       "    <tr>\n",
       "      <th>4</th>\n",
       "      <td>5</td>\n",
       "      <td>0</td>\n",
       "      <td>2</td>\n",
       "      <td>1</td>\n",
       "      <td>0</td>\n",
       "      <td>0</td>\n",
       "      <td>0</td>\n",
       "      <td>3.0</td>\n",
       "    </tr>\n",
       "  </tbody>\n",
       "</table>\n",
       "</div>"
      ],
      "text/plain": [
       "   student_id  le_subject  le_country  le_knowing_source  le_free_trial  \\\n",
       "0           1           1           2                  0              1   \n",
       "1           2           1           4                  3              0   \n",
       "2           3           2           2                  2              0   \n",
       "3           4           2           3                  3              1   \n",
       "4           5           0           2                  1              0   \n",
       "\n",
       "   le_tutoring_taken  le_worksheet_taken  oe_grade  \n",
       "0                  1                   1       3.0  \n",
       "1                  0                   0       1.0  \n",
       "2                  0                   1       0.0  \n",
       "3                  1                   0       2.0  \n",
       "4                  0                   0       3.0  "
      ]
     },
     "execution_count": 192,
     "metadata": {},
     "output_type": "execute_result"
    }
   ],
   "source": [
    "# lets drop the text datas and keep ncessary columns for visualization\n",
    "df2 = df1.drop(labels=['grade','subject','country','knowing_source','free_trial','tutoring_taken','worksheet_taken'], axis=1)\n",
    "df2.head()"
   ]
  },
  {
   "cell_type": "code",
   "execution_count": 193,
   "metadata": {},
   "outputs": [
    {
     "data": {
      "text/html": [
       "<div>\n",
       "<style scoped>\n",
       "    .dataframe tbody tr th:only-of-type {\n",
       "        vertical-align: middle;\n",
       "    }\n",
       "\n",
       "    .dataframe tbody tr th {\n",
       "        vertical-align: top;\n",
       "    }\n",
       "\n",
       "    .dataframe thead th {\n",
       "        text-align: right;\n",
       "    }\n",
       "</style>\n",
       "<table border=\"1\" class=\"dataframe\">\n",
       "  <thead>\n",
       "    <tr style=\"text-align: right;\">\n",
       "      <th></th>\n",
       "      <th>student_id</th>\n",
       "      <th>grade</th>\n",
       "      <th>subject</th>\n",
       "      <th>country</th>\n",
       "      <th>knowing_source</th>\n",
       "      <th>free_trial</th>\n",
       "      <th>tutoring_taken</th>\n",
       "      <th>worksheet_taken</th>\n",
       "    </tr>\n",
       "  </thead>\n",
       "  <tbody>\n",
       "    <tr>\n",
       "      <th>0</th>\n",
       "      <td>1</td>\n",
       "      <td>A</td>\n",
       "      <td>math</td>\n",
       "      <td>india</td>\n",
       "      <td>blog</td>\n",
       "      <td>yes</td>\n",
       "      <td>yes</td>\n",
       "      <td>yes</td>\n",
       "    </tr>\n",
       "    <tr>\n",
       "      <th>1</th>\n",
       "      <td>2</td>\n",
       "      <td>C</td>\n",
       "      <td>math</td>\n",
       "      <td>us</td>\n",
       "      <td>youtube</td>\n",
       "      <td>no</td>\n",
       "      <td>no</td>\n",
       "      <td>no</td>\n",
       "    </tr>\n",
       "    <tr>\n",
       "      <th>2</th>\n",
       "      <td>3</td>\n",
       "      <td>F</td>\n",
       "      <td>science</td>\n",
       "      <td>india</td>\n",
       "      <td>instagram</td>\n",
       "      <td>no</td>\n",
       "      <td>no</td>\n",
       "      <td>yes</td>\n",
       "    </tr>\n",
       "    <tr>\n",
       "      <th>3</th>\n",
       "      <td>4</td>\n",
       "      <td>B</td>\n",
       "      <td>science</td>\n",
       "      <td>uk</td>\n",
       "      <td>youtube</td>\n",
       "      <td>yes</td>\n",
       "      <td>yes</td>\n",
       "      <td>no</td>\n",
       "    </tr>\n",
       "    <tr>\n",
       "      <th>4</th>\n",
       "      <td>5</td>\n",
       "      <td>A</td>\n",
       "      <td>english</td>\n",
       "      <td>india</td>\n",
       "      <td>facebook</td>\n",
       "      <td>no</td>\n",
       "      <td>no</td>\n",
       "      <td>no</td>\n",
       "    </tr>\n",
       "  </tbody>\n",
       "</table>\n",
       "</div>"
      ],
      "text/plain": [
       "   student_id grade  subject country knowing_source free_trial tutoring_taken  \\\n",
       "0           1     A     math   india           blog        yes            yes   \n",
       "1           2     C     math      us        youtube         no             no   \n",
       "2           3     F  science   india      instagram         no             no   \n",
       "3           4     B  science      uk        youtube        yes            yes   \n",
       "4           5     A  english   india       facebook         no             no   \n",
       "\n",
       "  worksheet_taken  \n",
       "0             yes  \n",
       "1              no  \n",
       "2             yes  \n",
       "3              no  \n",
       "4              no  "
      ]
     },
     "execution_count": 193,
     "metadata": {},
     "output_type": "execute_result"
    }
   ],
   "source": [
    "df_oiginal = df1.drop(labels=['le_subject','oe_grade','le_country','le_knowing_source',\n",
    "                              'le_free_trial','le_tutoring_taken','le_worksheet_taken'], axis=1)\n",
    "df_oiginal.head()"
   ]
  },
  {
   "cell_type": "code",
   "execution_count": 194,
   "metadata": {
    "scrolled": true
   },
   "outputs": [
    {
     "data": {
      "text/plain": [
       "subject\n",
       "english    231\n",
       "math       404\n",
       "science    365\n",
       "Name: subject, dtype: int64"
      ]
     },
     "execution_count": 194,
     "metadata": {},
     "output_type": "execute_result"
    }
   ],
   "source": [
    "#DATA VISUALIZATION\n",
    "# lets analyze subject \n",
    "df_oiginal.groupby('subject')['subject'].count()\n"
   ]
  },
  {
   "cell_type": "code",
   "execution_count": 265,
   "metadata": {},
   "outputs": [
    {
     "data": {
      "image/png": "[encoded data removed]",
      "text/plain": [
       "<Figure size 432x288 with 1 Axes>"
      ]
     },
     "metadata": {},
     "output_type": "display_data"
    }
   ],
   "source": [
    "# pie chart represents contibutions of each subject enrolled by students as a whole.\n",
    "import matplotlib.pyplot as plt\n",
    "%matplotlib inline\n",
    "\n",
    "subject_vals = [404, 365, 231]\n",
    "subject_labels = [\"math\",\"science\",\"english\"]\n",
    "mycolors = ['green', 'red', 'blue']\n",
    "plt.pie(subject_vals,labels=subject_labels, shadow=True, autopct='%1.1f%%',radius=2,\n",
    "        explode=[0.2,0,0],counterclock=True, startangle=45, colors=mycolors)\n",
    "\n",
    "plt.show()"
   ]
  },
  {
   "cell_type": "markdown",
   "metadata": {},
   "source": [
    "## 1.) Insights from the above visualization\n",
    " - it is clear with the present data that among the three subjects the most enrolled one is maths which contributes `40.4%`\n",
    "   followed by science `36.5%` and english `23.1%` as a whole\n",
    "\n",
    "  "
   ]
  },
  {
   "cell_type": "code",
   "execution_count": 196,
   "metadata": {
    "scrolled": false
   },
   "outputs": [
    {
     "data": {
      "text/plain": [
       "country\n",
       "aus        81\n",
       "canada    154\n",
       "india     329\n",
       "uk        136\n",
       "us        300\n",
       "Name: country, dtype: int64"
      ]
     },
     "execution_count": 196,
     "metadata": {},
     "output_type": "execute_result"
    }
   ],
   "source": [
    "# lets analyze subject \n",
    "df_oiginal.groupby('country')['country'].count()"
   ]
  },
  {
   "cell_type": "code",
   "execution_count": 264,
   "metadata": {
    "scrolled": true
   },
   "outputs": [
    {
     "data": {
      "image/png": "[encoded data removed]",
      "text/plain": [
       "<Figure size 432x288 with 1 Axes>"
      ]
     },
     "metadata": {
      "needs_background": "light"
     },
     "output_type": "display_data"
    }
   ],
   "source": [
    "# Bar plot shows the number of students enrolled for the courses from different countries.\n",
    "fig = plt.figure()\n",
    "ax = fig.add_axes([0,0,1,1])\n",
    "ctry_values = [81,154,329,136,300]\n",
    "country_labels = [\"aus\",\"canada\",'india','uk','us']\n",
    "ax.bar(country_labels,ctry_values, color='r')\n",
    "plt.show()"
   ]
  },
  {
   "cell_type": "markdown",
   "metadata": {},
   "source": [
    "## 2.) Insights from the above visualization\n",
    "  - among 5 countries `india` comes first with a total of `329-students` followed by `unites states` with `300-students`\n",
    "    and vice versa... from the total of about `1000-students`"
   ]
  },
  {
   "cell_type": "code",
   "execution_count": 198,
   "metadata": {},
   "outputs": [
    {
     "data": {
      "text/plain": [
       "knowing_source\n",
       "blog         141\n",
       "facebook     150\n",
       "instagram    281\n",
       "youtube      428\n",
       "Name: knowing_source, dtype: int64"
      ]
     },
     "execution_count": 198,
     "metadata": {},
     "output_type": "execute_result"
    }
   ],
   "source": [
    "df_oiginal.groupby('knowing_source')['knowing_source'].count()"
   ]
  },
  {
   "cell_type": "code",
   "execution_count": 199,
   "metadata": {
    "scrolled": false
   },
   "outputs": [
    {
     "data": {
      "image/png": "[encoded data removed]",
      "text/plain": [
       "<Figure size 432x288 with 1 Axes>"
      ]
     },
     "metadata": {},
     "output_type": "display_data"
    }
   ],
   "source": [
    "#pie chart shows how much % each source contribute as a whole\n",
    "sources = ['blog', 'youtube', 'instagram', 'facebook']\n",
    "students = [141,428,281,150]\n",
    "mycolors = ['green', 'orange', 'blue', 'red']\n",
    "plt.pie(students,labels=sources, shadow=True, autopct='%1.1f%%',radius=2,\n",
    "        explode=[0.2,0,0,0],counterclock=True, startangle=45, colors=mycolors)\n",
    "plt.show()"
   ]
  },
  {
   "cell_type": "markdown",
   "metadata": {},
   "source": [
    "## 3.) Insights from the above visualization\n",
    "  - from the above social media platforms about `42.8%` 0f the students hear about our firm from `youtube`, `28.1%` of the       students from `instagram`, `15%` of the students from `facebook` and `14.1%` from `blogs`.\n",
    "  - with this insight we can consider investing some more amount on advertisement in `youtube` & `instagram` or we can focus \n",
    "    on developing the least contributors such as `facebook` & `blogs`.\n",
    "  "
   ]
  },
  {
   "cell_type": "code",
   "execution_count": 281,
   "metadata": {
    "scrolled": true
   },
   "outputs": [
    {
     "data": {
      "text/plain": [
       "<matplotlib.legend.Legend at 0x145e9595fa0>"
      ]
     },
     "execution_count": 281,
     "metadata": {},
     "output_type": "execute_result"
    },
    {
     "data": {
      "image/png": "[encoded data removed]",
      "text/plain": [
       "<Figure size 432x288 with 1 Axes>"
      ]
     },
     "metadata": {
      "needs_background": "light"
     },
     "output_type": "display_data"
    }
   ],
   "source": [
    "#from mysql queries we found datapoints for each grades per subject\n",
    "grades = ['A-grade','B-grade','C-grade','F-grade']\n",
    "math_grades = [126, 137, 75, 66]\n",
    "science_grades = [113, 141, 62, 49]\n",
    "english_grades = [74, 74, 40, 43]\n",
    "xpos = np.arange(len(grades))\n",
    "\n",
    "plt.xticks(xpos, grades)\n",
    "plt.title('grades per subject')\n",
    "plt.xlabel('Grades')\n",
    "plt.ylabel('No.of.students per grade')\n",
    "plt.bar(xpos-0.25, math_grades, width=0.25, label='math')\n",
    "plt.bar(xpos+0, science_grades, width=0.25,label='science')\n",
    "plt.bar(xpos+0.25, english_grades, width=0.25,label='english')\n",
    "plt.legend()\n"
   ]
  },
  {
   "cell_type": "markdown",
   "metadata": {},
   "source": [
    "## 4.) Insights from the above visualization\n",
    "   - comparing grades with respect to subject is a common phenomenon in learning analytics\n",
    "   - In case of `A`,`C`,`F` grades the results are mostly similar with `math-students` got higher numbers followed by \n",
    "     `science` & `english` students it seems biased that it may be due to the reason that `math-subject` has got the highest \n",
    "     number of students enrolled.\n",
    "   - but in the case of `B-grade` `science` becomes the highest contributor with `141-students` again it may be due to several      factors we might find did if we have more data with us."
   ]
  },
  {
   "cell_type": "code",
   "execution_count": 237,
   "metadata": {},
   "outputs": [],
   "source": [
    "'''\n",
    "ft = df2['le_free_trial']\n",
    "tt = df2['le_tutoring_taken']\n",
    "wt = df2['le_worksheet_taken']\n",
    "def possible_tutor_booking(free_trial, tutoring_taken, worksheet_taken):\n",
    "    ft_result = 0\n",
    "    tt_result = 0\n",
    "    wt_result = 0\n",
    "    for val in free_trial:\n",
    "        if val == 1:\n",
    "            ft_result += 1\n",
    "    return ft_result\n",
    "    print('no of students took free trials are:', ft_result)\n",
    "        for va in tutoring_taken:\n",
    "            if va ==1 and val == 1:\n",
    "                tt_result += 1\n",
    "        return tt_result\n",
    "        print('no of students took both free trial & tutoring are:', ft_tt_result)\n",
    "            for va in tutoring_taken:\n",
    "                if va ==1 and val == 1:\n",
    "                    wt_result += 1\n",
    "            return wt_result\n",
    "    \n",
    "'''\n",
    "          "
   ]
  },
  {
   "cell_type": "code",
   "execution_count": 243,
   "metadata": {},
   "outputs": [
    {
     "name": "stdout",
     "output_type": "stream",
     "text": [
      "total free trials scheduled: 452\n",
      "no of students booked tutoring: 462\n",
      "no of students took worksheet: 463\n"
     ]
    }
   ],
   "source": [
    "total_free_trials_scheduled = df2['le_free_trial'].sum()\n",
    "print('total free trials scheduled:',total_free_trials_scheduled)\n",
    "total_tutorings_taken = df2['le_tutoring_taken'].sum()\n",
    "print('no of students booked tutoring:',total_tutorings_taken)\n",
    "total_worksheet_taken = df2['le_worksheet_taken'].sum()\n",
    "print('no of students took worksheet:',total_worksheet_taken)"
   ]
  },
  {
   "cell_type": "code",
   "execution_count": 247,
   "metadata": {
    "scrolled": false
   },
   "outputs": [
    {
     "data": {
      "image/png": "[encoded data removed]",
      "text/plain": [
       "<Figure size 432x288 with 1 Axes>"
      ]
     },
     "metadata": {},
     "output_type": "display_data"
    }
   ],
   "source": [
    "# pie chart shows the above values\n",
    "\n",
    "\n",
    "bookings = ['free trials', 'tutoring_booked', 'worksheet_booked']\n",
    "values = [452, 462, 463]\n",
    "mycolors = ['green', 'orange', 'blue']\n",
    "plt.pie(values,labels=bookings, shadow=True, autopct='%1.1f%%',radius=2,\n",
    "        explode=[0.2,0,0],counterclock=True, startangle=45, colors=mycolors)\n",
    "plt.show()"
   ]
  },
  {
   "cell_type": "markdown",
   "metadata": {},
   "source": [
    "## 5.) Insights from the above visualization\n",
    "  - `32.8%` of the students scheduled `free_trial` in our website as a whole, which is `452-students` out of `1000-students`.\n",
    "  - `33.6%` of the students have taken `tutoring` which is `462-students` out of `1000-students`.\n",
    "  - similarly `33.6%` of the students have taken `worksheet` which is `463-students` out of `1000-students`\n",
    "  "
   ]
  },
  {
   "cell_type": "code",
   "execution_count": 280,
   "metadata": {
    "scrolled": true
   },
   "outputs": [
    {
     "data": {
      "image/png": "[encoded data removed]",
      "text/plain": [
       "<Figure size 432x288 with 1 Axes>"
      ]
     },
     "metadata": {
      "needs_background": "light"
     },
     "output_type": "display_data"
    }
   ],
   "source": [
    "#from our sql queries we found the below crucial data for insights\n",
    "total_free_trials = 452\n",
    "both_free_trial_tutoring = 327\n",
    "all_three_bookings = 279\n",
    "#histogram represents above data\n",
    "\n",
    "fig = plt.figure()\n",
    "ax = fig.add_axes([0,0,1,1])\n",
    "plt.title('no of students scheduled with various scenarios')\n",
    "plt.xlabel('VARIOUS SCHEDULING CONDITIONS')\n",
    "plt.ylabel('No.of.students')\n",
    "taken_values = [452, 327, 279]\n",
    "taken_labels = [\"total_free_tutorials_booked\",\"both_free_&\\npaid_tutoring_booked\",\"all_free_paid_&\\nworksheet_booked\"]\n",
    "ax.bar(taken_labels,taken_values, color='g')\n",
    "plt.show()"
   ]
  },
  {
   "cell_type": "markdown",
   "metadata": {},
   "source": [
    "## 6.) Insights from the above visualization\n",
    "  - Totally `452-students` out of `1000-students`  scheduled `free_trial` as before\n",
    "  - among these `452-students` who has scheduled `free_trial` almost `327-students` has taken `tutoring` in otherwords around \n",
    "    `72%` of the students who scheduled `free_trial` meant to take `tutoring` which shows the high probability.\n",
    "  - similarly `279-students` among `452-students` who has scheduled `free_trial` meant to take both `tutoring` as well as\n",
    "    `worksheet` which is around `62%` students as a whole."
   ]
  }
 ],
 "metadata": {
  "kernelspec": {
   "display_name": "Python 3",
   "language": "python",
   "name": "python3"
  },
  "language_info": {
   "codemirror_mode": {
    "name": "ipython",
    "version": 3
   },
   "file_extension": ".py",
   "mimetype": "text/x-python",
   "name": "python",
   "nbconvert_exporter": "python",
   "pygments_lexer": "ipython3",
   "version": "3.8.5"
  }
 },
 "nbformat": 4,
 "nbformat_minor": 4
}
